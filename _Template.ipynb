{
  "nbformat": 4,
  "nbformat_minor": 0,
  "metadata": {
    "colab": {
      "provenance": [],
      "authorship_tag": "ABX9TyM0CH1X9MiROKMH9mardQzQ",
      "include_colab_link": true
    },
    "kernelspec": {
      "name": "python3",
      "display_name": "Python 3"
    },
    "language_info": {
      "name": "python"
    }
  },
  "cells": [
    {
      "cell_type": "markdown",
      "metadata": {
        "id": "view-in-github",
        "colab_type": "text"
      },
      "source": [
        "<a href=\"https://colab.research.google.com/github/designer24-7/Data110/blob/main/_Template.ipynb\" target=\"_parent\"><img src=\"https://colab.research.google.com/assets/colab-badge.svg\" alt=\"Open In Colab\"/></a>"
      ]
    },
    {
      "cell_type": "markdown",
      "source": [
        "Template"
      ],
      "metadata": {
        "id": "ItLYpsiklo5u"
      }
    },
    {
      "cell_type": "code",
      "execution_count": null,
      "metadata": {
        "id": "08SPLk_bjWaT"
      },
      "outputs": [],
      "source": [
        "## Import Libraries\n",
        "\n",
        "import numpy as np\n",
        "from matplotlib import pyplot as plt\n",
        "import plotly as pt\n",
        "import pandas as pd  ##for dataframes\n",
        "import seaborn as sn ##for Heatmaps"
      ]
    },
    {
      "cell_type": "code",
      "source": [
        "## Import Libraries\n",
        "df = pd.read_csv(\"URL\")"
      ],
      "metadata": {
        "id": "DmVKgz3FkAbR"
      },
      "execution_count": null,
      "outputs": []
    },
    {
      "cell_type": "code",
      "source": [
        "## Read Date | Perform Calculations"
      ],
      "metadata": {
        "id": "nzKOKtvrkHKW"
      },
      "execution_count": null,
      "outputs": []
    },
    {
      "cell_type": "code",
      "source": [
        "## Create Graphs\n",
        "style=(\"ggplot\")\n",
        "plt.figure(figsize=(16,9))\n",
        "\n",
        "plt.plot(var, var, label='', color=\"\", linewidth=3)\n",
        "plt.plot(var, var, label='', color=\"\", linewidth=3)\n",
        "plt.title('', fontsize=26, pad=32)\n",
        "plt.xlabel('')\n",
        "plt.ylabel('')\n",
        "plt.legend(loc=\"\", )\n",
        "plt.grid(True, axis=\"\", color=\"\" )\n",
        "plt.show()"
      ],
      "metadata": {
        "id": "yxyIXR6lkPBy"
      },
      "execution_count": null,
      "outputs": []
    }
  ]
}